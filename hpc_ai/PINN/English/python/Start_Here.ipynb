{
  "cells": [
    {
      "cell_type": "markdown",
      "metadata": {
        "id": "view-in-github",
        "colab_type": "text"
      },
      "source": [
        "<a href=\"https://colab.research.google.com/github/robertopsouto/gpubootcamp/blob/colab/hpc_ai/PINN/English/python/Start_Here.ipynb\" target=\"_parent\"><img src=\"https://colab.research.google.com/assets/colab-badge.svg\" alt=\"Open In Colab\"/></a>"
      ]
    },
    {
      "cell_type": "markdown",
      "metadata": {
        "id": "Ecn3Cgaba34r"
      },
      "source": [
        "# Welcome to AI for Science Bootcamp using Modulus\n",
        "\n",
        "The objective of this bootcamp is to provide fundamental difference between Data driven and Physics Driven approach  to using Artificial Intelligence (AI) algorithms in Science ( High Performance Computing (HPC) Simulations ).\n",
        "\n",
        "This bootcamp will introduce participants to Physics Informed Neural Network ( PINN ) with help of NVIDIA Modulus.\n",
        "\n",
        "1. [Introduction](jupyter_notebook/introduction/Introductory_Notebook.ipynb) : In this notebook we will see the advantages of Physics Informed modeling over data-driven modeling and will also outline the brief theory about Physics Informed Neural Networks (PINNs).\n",
        "\n",
        "2. [Solving PDEs using PINNs](jupyter_notebook/diffusion_1d/Diffusion_Problem_Notebook.ipynb)  : This notebook give you a headstart in solving your own Partial Differential Equations (PDEs) using neural networks. You will also see how to solve parameterized PDEs.\n",
        "\n",
        "3. [Solving transient problems and inverse problems](jupyter_notebook/spring_mass/Spring_Mass_Problem_Notebook.ipynb) : In this tutorial we will see how to solve the transient problems over small time intervals easily by treating time as a continuous variable. We will also cover how to solve inverse problems.\n",
        "\n",
        "4. [FNO](jupyter_notebook/Operators/Darcy_Flow_using_Fourier_Neural_Operators.ipynb) : In this notebook we will introduce the brief theory behind the Fourier Neural Operators and use them to solve a data-driven Darcy flow problem.\n",
        "\n",
        "5. [AFNO](jupyter_notebook/Operators/Darcy_Flow_using_Adaptive_Fourier_Neural_Operators.ipynb) : In this notebook we will introduce the brief theory behind the Adaptive Fourier Neural Operators and use them to solve the same data-driven Darcy flow problem that was introduced in the FNO notebook.\n",
        "\n",
        "6. [PINO](jupyter_notebook/Operators/Darcy_Flow_using_Physics_Informed_Neural_Operator.ipynb) : In this notebook we will introduce the brief theory behind the Physics Informed Neural Operators (PINO) and use them to solve the same data-driven Darcy flow problem that was introduced in the FNO notebook.\n",
        "\n",
        "7. [Challenge](jupyter_notebook/chip_2d/Challenge_CFD_Problem_Notebook.ipynb) : A small exercise to solve  a fluid mechanics problem involving solution to the Navier Stokes equations.\n",
        "\n",
        "# Licensing\n",
        "This material is released by OpenACC-Standard.org, in collaboration with NVIDIA Corporation, under the Creative Commons Attribution 4.0 International (CC BY 4.0).\n",
        "\n"
      ]
    }
  ],
  "metadata": {
    "kernelspec": {
      "display_name": "Python 3 (ipykernel)",
      "language": "python",
      "name": "python3"
    },
    "language_info": {
      "codemirror_mode": {
        "name": "ipython",
        "version": 3
      },
      "file_extension": ".py",
      "mimetype": "text/x-python",
      "name": "python",
      "nbconvert_exporter": "python",
      "pygments_lexer": "ipython3",
      "version": "3.8.13"
    },
    "colab": {
      "provenance": [],
      "include_colab_link": true
    }
  },
  "nbformat": 4,
  "nbformat_minor": 0
}