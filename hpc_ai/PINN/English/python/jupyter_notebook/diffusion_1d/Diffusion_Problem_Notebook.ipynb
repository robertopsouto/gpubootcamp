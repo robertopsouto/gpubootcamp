{
  "cells": [
    {
      "cell_type": "markdown",
      "metadata": {
        "id": "view-in-github",
        "colab_type": "text"
      },
      "source": [
        "<a href=\"https://colab.research.google.com/github/robertopsouto/gpubootcamp/blob/colab/hpc_ai/PINN/English/python/jupyter_notebook/diffusion_1d/Diffusion_Problem_Notebook.ipynb\" target=\"_parent\"><img src=\"https://colab.research.google.com/assets/colab-badge.svg\" alt=\"Open In Colab\"/></a>"
      ]
    },
    {
      "cell_type": "markdown",
      "source": [
        "# Install modulus"
      ],
      "metadata": {
        "id": "8lKW4UQcu_pr"
      }
    },
    {
      "cell_type": "code",
      "source": [
        "%%bash\n",
        "pip install --upgrade pip\n",
        "pip install nvidia-modulus"
      ],
      "metadata": {
        "id": "9jR3TOnGfWDj",
        "outputId": "2f7ffbf5-1f11-4c67-b508-3ebace171afd",
        "colab": {
          "base_uri": "https://localhost:8080/"
        }
      },
      "execution_count": 1,
      "outputs": [
        {
          "output_type": "stream",
          "name": "stdout",
          "text": [
            "Collecting nvidia-modulus\n",
            "  Downloading nvidia_modulus-0.3.0-py3-none-any.whl (290 kB)\n",
            "     ━━━━━━━━━━━━━━━━━━━━━━━━━━━━━━━━━━━━━━━━ 290.9/290.9 kB 5.9 MB/s eta 0:00:00\n",
            "Requirement already satisfied: torch>=2.0.0 in /usr/local/lib/python3.10/dist-packages (from nvidia-modulus) (2.0.1+cu118)\n",
            "Requirement already satisfied: numpy<1.25,>=1.22.4 in /usr/local/lib/python3.10/dist-packages (from nvidia-modulus) (1.23.5)\n",
            "Requirement already satisfied: xarray>=2023.1.0 in /usr/local/lib/python3.10/dist-packages (from nvidia-modulus) (2023.7.0)\n",
            "Collecting zarr>=2.14.2 (from nvidia-modulus)\n",
            "  Downloading zarr-2.16.1-py3-none-any.whl (206 kB)\n",
            "     ━━━━━━━━━━━━━━━━━━━━━━━━━━━━━━━━━━━━━━━━ 206.9/206.9 kB 8.8 MB/s eta 0:00:00\n",
            "Requirement already satisfied: fsspec>=2023.1.0 in /usr/local/lib/python3.10/dist-packages (from nvidia-modulus) (2023.6.0)\n",
            "Collecting s3fs>=2023.5.0 (from nvidia-modulus)\n",
            "  Downloading s3fs-2023.9.2-py3-none-any.whl (28 kB)\n",
            "Collecting nvidia-dali-cuda110>=1.16.0 (from nvidia-modulus)\n",
            "  Downloading nvidia_dali_cuda110-1.30.0-9783405-py3-none-manylinux2014_x86_64.whl (493.6 MB)\n",
            "     ━━━━━━━━━━━━━━━━━━━━━━━━━━━━━━━━━━━━━━━━ 493.6/493.6 MB 3.3 MB/s eta 0:00:00\n",
            "Requirement already satisfied: setuptools>=67.6.0 in /usr/local/lib/python3.10/dist-packages (from nvidia-modulus) (67.7.2)\n",
            "Requirement already satisfied: certifi>=2023.7.22 in /usr/local/lib/python3.10/dist-packages (from nvidia-modulus) (2023.7.22)\n",
            "Requirement already satisfied: astunparse>=1.6.0 in /usr/local/lib/python3.10/dist-packages (from nvidia-dali-cuda110>=1.16.0->nvidia-modulus) (1.6.3)\n",
            "Requirement already satisfied: gast>=0.3.3 in /usr/local/lib/python3.10/dist-packages (from nvidia-dali-cuda110>=1.16.0->nvidia-modulus) (0.4.0)\n",
            "Requirement already satisfied: dm-tree in /usr/local/lib/python3.10/dist-packages (from nvidia-dali-cuda110>=1.16.0->nvidia-modulus) (0.1.8)\n",
            "Collecting aiobotocore~=2.5.4 (from s3fs>=2023.5.0->nvidia-modulus)\n",
            "  Downloading aiobotocore-2.5.4-py3-none-any.whl (73 kB)\n",
            "     ━━━━━━━━━━━━━━━━━━━━━━━━━━━━━━━━━━━━━━━━ 73.4/73.4 kB 9.3 MB/s eta 0:00:00\n",
            "Collecting fsspec>=2023.1.0 (from nvidia-modulus)\n",
            "  Downloading fsspec-2023.9.2-py3-none-any.whl (173 kB)\n",
            "     ━━━━━━━━━━━━━━━━━━━━━━━━━━━━━━━━━━━━━━━━ 173.4/173.4 kB 19.6 MB/s eta 0:00:00\n",
            "Requirement already satisfied: aiohttp!=4.0.0a0,!=4.0.0a1 in /usr/local/lib/python3.10/dist-packages (from s3fs>=2023.5.0->nvidia-modulus) (3.8.6)\n",
            "Requirement already satisfied: filelock in /usr/local/lib/python3.10/dist-packages (from torch>=2.0.0->nvidia-modulus) (3.12.4)\n",
            "Requirement already satisfied: typing-extensions in /usr/local/lib/python3.10/dist-packages (from torch>=2.0.0->nvidia-modulus) (4.5.0)\n",
            "Requirement already satisfied: sympy in /usr/local/lib/python3.10/dist-packages (from torch>=2.0.0->nvidia-modulus) (1.12)\n",
            "Requirement already satisfied: networkx in /usr/local/lib/python3.10/dist-packages (from torch>=2.0.0->nvidia-modulus) (3.1)\n",
            "Requirement already satisfied: jinja2 in /usr/local/lib/python3.10/dist-packages (from torch>=2.0.0->nvidia-modulus) (3.1.2)\n",
            "Requirement already satisfied: triton==2.0.0 in /usr/local/lib/python3.10/dist-packages (from torch>=2.0.0->nvidia-modulus) (2.0.0)\n",
            "Requirement already satisfied: cmake in /usr/local/lib/python3.10/dist-packages (from triton==2.0.0->torch>=2.0.0->nvidia-modulus) (3.27.6)\n",
            "Requirement already satisfied: lit in /usr/local/lib/python3.10/dist-packages (from triton==2.0.0->torch>=2.0.0->nvidia-modulus) (17.0.2)\n",
            "Requirement already satisfied: pandas>=1.4 in /usr/local/lib/python3.10/dist-packages (from xarray>=2023.1.0->nvidia-modulus) (1.5.3)\n",
            "Requirement already satisfied: packaging>=21.3 in /usr/local/lib/python3.10/dist-packages (from xarray>=2023.1.0->nvidia-modulus) (23.2)\n",
            "Collecting asciitree (from zarr>=2.14.2->nvidia-modulus)\n",
            "  Downloading asciitree-0.3.3.tar.gz (4.0 kB)\n",
            "  Preparing metadata (setup.py): started\n",
            "  Preparing metadata (setup.py): finished with status 'done'\n",
            "Collecting fasteners (from zarr>=2.14.2->nvidia-modulus)\n",
            "  Downloading fasteners-0.19-py3-none-any.whl (18 kB)\n",
            "Collecting numcodecs>=0.10.0 (from zarr>=2.14.2->nvidia-modulus)\n",
            "  Downloading numcodecs-0.12.0-cp310-cp310-manylinux_2_17_x86_64.manylinux2014_x86_64.whl (7.7 MB)\n",
            "     ━━━━━━━━━━━━━━━━━━━━━━━━━━━━━━━━━━━━━━━━ 7.7/7.7 MB 78.6 MB/s eta 0:00:00\n",
            "Collecting botocore<1.31.18,>=1.31.17 (from aiobotocore~=2.5.4->s3fs>=2023.5.0->nvidia-modulus)\n",
            "  Downloading botocore-1.31.17-py3-none-any.whl (11.1 MB)\n",
            "     ━━━━━━━━━━━━━━━━━━━━━━━━━━━━━━━━━━━━━━━━ 11.1/11.1 MB 76.3 MB/s eta 0:00:00\n",
            "Requirement already satisfied: wrapt<2.0.0,>=1.10.10 in /usr/local/lib/python3.10/dist-packages (from aiobotocore~=2.5.4->s3fs>=2023.5.0->nvidia-modulus) (1.15.0)\n",
            "Collecting aioitertools<1.0.0,>=0.5.1 (from aiobotocore~=2.5.4->s3fs>=2023.5.0->nvidia-modulus)\n",
            "  Downloading aioitertools-0.11.0-py3-none-any.whl (23 kB)\n",
            "Requirement already satisfied: attrs>=17.3.0 in /usr/local/lib/python3.10/dist-packages (from aiohttp!=4.0.0a0,!=4.0.0a1->s3fs>=2023.5.0->nvidia-modulus) (23.1.0)\n",
            "Requirement already satisfied: charset-normalizer<4.0,>=2.0 in /usr/local/lib/python3.10/dist-packages (from aiohttp!=4.0.0a0,!=4.0.0a1->s3fs>=2023.5.0->nvidia-modulus) (3.3.0)\n",
            "Requirement already satisfied: multidict<7.0,>=4.5 in /usr/local/lib/python3.10/dist-packages (from aiohttp!=4.0.0a0,!=4.0.0a1->s3fs>=2023.5.0->nvidia-modulus) (6.0.4)\n",
            "Requirement already satisfied: async-timeout<5.0,>=4.0.0a3 in /usr/local/lib/python3.10/dist-packages (from aiohttp!=4.0.0a0,!=4.0.0a1->s3fs>=2023.5.0->nvidia-modulus) (4.0.3)\n",
            "Requirement already satisfied: yarl<2.0,>=1.0 in /usr/local/lib/python3.10/dist-packages (from aiohttp!=4.0.0a0,!=4.0.0a1->s3fs>=2023.5.0->nvidia-modulus) (1.9.2)\n",
            "Requirement already satisfied: frozenlist>=1.1.1 in /usr/local/lib/python3.10/dist-packages (from aiohttp!=4.0.0a0,!=4.0.0a1->s3fs>=2023.5.0->nvidia-modulus) (1.4.0)\n",
            "Requirement already satisfied: aiosignal>=1.1.2 in /usr/local/lib/python3.10/dist-packages (from aiohttp!=4.0.0a0,!=4.0.0a1->s3fs>=2023.5.0->nvidia-modulus) (1.3.1)\n",
            "Requirement already satisfied: wheel<1.0,>=0.23.0 in /usr/local/lib/python3.10/dist-packages (from astunparse>=1.6.0->nvidia-dali-cuda110>=1.16.0->nvidia-modulus) (0.41.2)\n",
            "Requirement already satisfied: six<2.0,>=1.6.1 in /usr/local/lib/python3.10/dist-packages (from astunparse>=1.6.0->nvidia-dali-cuda110>=1.16.0->nvidia-modulus) (1.16.0)\n",
            "Requirement already satisfied: python-dateutil>=2.8.1 in /usr/local/lib/python3.10/dist-packages (from pandas>=1.4->xarray>=2023.1.0->nvidia-modulus) (2.8.2)\n",
            "Requirement already satisfied: pytz>=2020.1 in /usr/local/lib/python3.10/dist-packages (from pandas>=1.4->xarray>=2023.1.0->nvidia-modulus) (2023.3.post1)\n",
            "Requirement already satisfied: MarkupSafe>=2.0 in /usr/local/lib/python3.10/dist-packages (from jinja2->torch>=2.0.0->nvidia-modulus) (2.1.3)\n",
            "Requirement already satisfied: mpmath>=0.19 in /usr/local/lib/python3.10/dist-packages (from sympy->torch>=2.0.0->nvidia-modulus) (1.3.0)\n",
            "Collecting jmespath<2.0.0,>=0.7.1 (from botocore<1.31.18,>=1.31.17->aiobotocore~=2.5.4->s3fs>=2023.5.0->nvidia-modulus)\n",
            "  Downloading jmespath-1.0.1-py3-none-any.whl (20 kB)\n",
            "Collecting urllib3<1.27,>=1.25.4 (from botocore<1.31.18,>=1.31.17->aiobotocore~=2.5.4->s3fs>=2023.5.0->nvidia-modulus)\n",
            "  Downloading urllib3-1.26.17-py2.py3-none-any.whl (143 kB)\n",
            "     ━━━━━━━━━━━━━━━━━━━━━━━━━━━━━━━━━━━━━━━━ 143.4/143.4 kB 16.5 MB/s eta 0:00:00\n",
            "Requirement already satisfied: idna>=2.0 in /usr/local/lib/python3.10/dist-packages (from yarl<2.0,>=1.0->aiohttp!=4.0.0a0,!=4.0.0a1->s3fs>=2023.5.0->nvidia-modulus) (3.4)\n",
            "Building wheels for collected packages: asciitree\n",
            "  Building wheel for asciitree (setup.py): started\n",
            "  Building wheel for asciitree (setup.py): finished with status 'done'\n",
            "  Created wheel for asciitree: filename=asciitree-0.3.3-py3-none-any.whl size=5034 sha256=41969c8d1e7197cd621155dd22b41a1be99f16fe0753966670259feb0250c572\n",
            "  Stored in directory: /root/.cache/pip/wheels/7f/4e/be/1171b40f43b918087657ec57cf3b81fa1a2e027d8755baa184\n",
            "Successfully built asciitree\n",
            "Installing collected packages: asciitree, urllib3, numcodecs, jmespath, fsspec, fasteners, aioitertools, zarr, nvidia-dali-cuda110, botocore, aiobotocore, s3fs, nvidia-modulus\n",
            "  Attempting uninstall: urllib3\n",
            "    Found existing installation: urllib3 2.0.6\n",
            "    Uninstalling urllib3-2.0.6:\n",
            "      Successfully uninstalled urllib3-2.0.6\n",
            "  Attempting uninstall: fsspec\n",
            "    Found existing installation: fsspec 2023.6.0\n",
            "    Uninstalling fsspec-2023.6.0:\n",
            "      Successfully uninstalled fsspec-2023.6.0\n",
            "Successfully installed aiobotocore-2.5.4 aioitertools-0.11.0 asciitree-0.3.3 botocore-1.31.17 fasteners-0.19 fsspec-2023.9.2 jmespath-1.0.1 numcodecs-0.12.0 nvidia-dali-cuda110-1.30.0 nvidia-modulus-0.3.0 s3fs-2023.9.2 urllib3-1.26.17 zarr-2.16.1\n"
          ]
        },
        {
          "output_type": "stream",
          "name": "stderr",
          "text": [
            "ERROR: pip's dependency resolver does not currently take into account all the packages that are installed. This behaviour is the source of the following dependency conflicts.\n",
            "gcsfs 2023.6.0 requires fsspec==2023.6.0, but you have fsspec 2023.9.2 which is incompatible.\n"
          ]
        }
      ]
    },
    {
      "cell_type": "code",
      "source": [
        "import torch\n",
        "from modulus.models.mlp.fully_connected import FullyConnected\n",
        "model = FullyConnected(in_features=32, out_features=64)\n",
        "input = torch.randn(128, 32)\n",
        "output = model(input)\n",
        "output.shape"
      ],
      "metadata": {
        "id": "2XIDGhB3nHlz",
        "outputId": "99dba1c5-e4a8-4f85-be5f-2f2d4296ee69",
        "colab": {
          "base_uri": "https://localhost:8080/"
        }
      },
      "execution_count": 3,
      "outputs": [
        {
          "output_type": "execute_result",
          "data": {
            "text/plain": [
              "torch.Size([128, 64])"
            ]
          },
          "metadata": {},
          "execution_count": 3
        }
      ]
    },
    {
      "cell_type": "markdown",
      "metadata": {
        "id": "jjz36DEYuRHg"
      },
      "source": [
        "# Steady State 1D Diffusion in a Composite Bar using PINNs"
      ]
    },
    {
      "cell_type": "markdown",
      "metadata": {
        "id": "b7oHwWVQuRHp"
      },
      "source": [
        "This notebook give you a headstart in solving your own Partial Differential Equations (PDEs) using neural networks. Let's quickly recap the theory of PINNs before proceeding. We will embed the physics of the problem in the the neural networks and in such setting, we can use them to approximate the solution to a given differential equation and boundary condition without any training data from other solvers. More specifically, the neural network will be trained to minimize a loss function which is formed using the differential equation and the boundary conditions. If the network is able to minimize this loss then it will in effect solve the given differential equation. More information about the Physics Informed Neural Networks (PINNs) can be found in the [paper](https://www.sciencedirect.com/science/article/pii/S0021999118307125?casa_token=1CnSbVeDwJ0AAAAA:-8a6ZMjO7RgYjFBAxIoVU2sWAdsqFzLRTNHA1BkRryNPXx5Vjc8hCDCkS99gcZR0B1rpa33a30yG) published by Raissi et al.\n",
        "\n",
        "In this notebook we will solve the steady 1 dimensional heat transfer in a composite bar. We will use NVIDIA's Modulus library to create the problem setup. You can refer to the [Modulus User Documentation](https://docs.nvidia.com/deeplearning/modulus/index.html) for more examples on solving different types of PDEs using the Modulus library, Modulus APIs, Release notes, etc."
      ]
    },
    {
      "cell_type": "markdown",
      "metadata": {
        "id": "NQadlBXQuRHr"
      },
      "source": [
        "### Learning Outcomes\n",
        "1. How to use Modulus to simulate physics problems using PINNs\n",
        "    1. How to write your own PDEs and formulate the different losses\n",
        "    2. How to use the Constructive Solid Geometry (CSG) module\n",
        "2. How to use Modulus to solve a parameterized PDEs\n",
        "    "
      ]
    },
    {
      "cell_type": "markdown",
      "metadata": {
        "id": "bk6N4spOuRHs"
      },
      "source": [
        "## Problem Description\n",
        "\n",
        "Our aim is to obtain the temperature distribution inside the bar that is made up of two materials with different thermal conductivity. The geometry and the problem specification of the problem can be seen below\n",
        "\n",
        "<img src=\"https://github.com/robertopsouto/gpubootcamp/blob/colab/hpc_ai/PINN/English/python/jupyter_notebook/diffusion_1d/diffusion_bar_geometry.png?raw=1\" alt=\"Drawing\" style=\"width: 600px;\"/>\n",
        "\n",
        "The composite bar extends from $x=0$ to $x=2$. The bar has material of conductivity $D_1=10$ from $x=0$ to $x=1$ and $D_2=0.1$ from $x=1$ to $x=2$. Both the ends of the bar, $x=0$ and $x=2$ are maintained at a constant temperatures of $0$ and $100$ respectively. For simplicity of modeling, we will treat the composite bar as two separate bars, bar 1 and bar 2, whose ends are joined together. We will treat the temperatures in the bar 1 as $U_1$ and the temperature in bar 2 as $U_2$.\n",
        "\n",
        "The equations and boundary conditions governing the problem can be mathematically expressed as\n",
        "\n",
        "One dimensional diffusion of temperature in bar 1 and 2:\n",
        "\n",
        "$$\n",
        "\\begin{align}\n",
        "\\frac{d}{dx}\\left( D_1\\frac{dU_1}{dx} \\right) = 0, && \\text{when } 0<x<1 \\\\\n",
        "\\frac{d}{dx}\\left( D_2\\frac{dU_2}{dx} \\right) = 0, && \\text{when } 1<x<2 \\\\\n",
        "\\end{align}\n",
        "$$\n",
        "\n",
        "Flux and temperature continuity at interface $(x=1)$\n",
        "$$\n",
        "\\begin{align}\n",
        "D_1\\frac{dU_1}{dx} = D_2\\frac{dU_2}{dx}, && \\text{when } x=1 \\\\\n",
        "U_1 = U_2, && \\text{when } x=1 \\\\\n",
        "\\end{align}\n",
        "$$\n"
      ]
    },
    {
      "cell_type": "markdown",
      "metadata": {
        "id": "HFaU6bfsuRHv"
      },
      "source": [
        "## Case Setup\n",
        "\n",
        "Now that we have our problem defined, let's take a look at the code required to solve it using Modulus. Modulus has a variety of helper functions/APIs that will help us to set up the problem with ease. It has APIs to model geometry in a parameterized fashion using the Constructive Solid Geometry (CSG) module, write-up the required equations in a user-friendly symbolic format and comes with several advanced neural network architectures to choose for more complicated problems.\n",
        "\n",
        "Now let's start the problem by importing the required libraries and packages\n",
        "\n",
        "### Note\n",
        "\n",
        "In this notebook we will describe the contents of the [`diffusion_bar.py`](../../source_code/diffusion_1d/diffusion_bar.py) script"
      ]
    },
    {
      "cell_type": "markdown",
      "metadata": {
        "id": "j_Fb6ZrVuRHw"
      },
      "source": [
        "```python\n",
        "import torch\n",
        "import numpy as np\n",
        "from sympy import Symbol, Eq, Function, Number\n",
        "\n",
        "import modulus\n",
        "from modulus.hydra import ModulusConfig, instantiate_arch\n",
        "from modulus.solver import Solver\n",
        "from modulus.domain import Domain\n",
        "from modulus.geometry.primitives_1d import Line1D\n",
        "from modulus.domain.constraint import (\n",
        "    PointwiseBoundaryConstraint,\n",
        "    PointwiseInteriorConstraint,\n",
        ")\n",
        "from modulus.domain.validator import PointwiseValidator\n",
        "from modulus.domain.monitor import PointwiseMonitor\n",
        "from modulus.key import Key\n",
        "from modulus.node import Node\n",
        "from modulus.eq.pde import PDE\n",
        "```"
      ]
    },
    {
      "cell_type": "markdown",
      "metadata": {
        "id": "GILlsRq3uRHx"
      },
      "source": [
        "From v22.03 modulus supports APIs for solving data-driven problems where the data is available on grid/mesh as well as the PINN problems where point clouds are used for problem formulation. In this section, since we will be solving the 1d diffusion problem using the PINN approach, we will use the functions and classes from the `modulus.solver` module. The `Solver` class trains and evaluates the Modulus' neural network solver. The `Domain` class is used to add constraints, monitors, validators, etc. to the problem.\n",
        "\n",
        "The `geometry` module contains predefined geometries respectively that one can use to define the problem. We will describe each of them in detail as we move forward in the code. For more detailed information on all the different modules, we recommended you to refer the [Modulus API Documentation](https://docs.nvidia.com/deeplearning/modulus/api_source/api_index.html).\n"
      ]
    },
    {
      "cell_type": "markdown",
      "metadata": {
        "id": "TswcMKTAuRHz"
      },
      "source": [
        "## Creating the geometry\n",
        "\n",
        "In this problem, we will create the 1-dimensional geometry using `Line1D` class from the geometry module. The module also contains several 2d and 3d shapes like rectangle, circle, triangle, cuboids, sphere, torus, cones, tetrahedrons, etc. We will define the one dimensional line object using the two end-points. For composite bar, we will create two separate bars as defined in the problem statement"
      ]
    },
    {
      "cell_type": "markdown",
      "metadata": {
        "id": "alO3qg3nuRH0"
      },
      "source": [
        "```python\n",
        "# params for domain\n",
        "L1 = Line1D(0,1)\n",
        "L2 = Line1D(1,2)\n",
        "```"
      ]
    },
    {
      "cell_type": "markdown",
      "metadata": {
        "id": "l2NT8MYmuRH1"
      },
      "source": [
        "Next we will define the properties for the problem which will later be used while making the equations, boundary conditions, etc. Also, for this problem, we can find the temperature at the interface analytically and we will use that as to form validation data to compare our neural network results"
      ]
    },
    {
      "cell_type": "markdown",
      "metadata": {
        "id": "CAKk6TtuuRH2"
      },
      "source": [
        "```python\n",
        "D1 = 1e1\n",
        "D2 = 1e-1\n",
        "\n",
        "Tc = 100\n",
        "Ta = 0\n",
        "Tb = (Tc + (D1 / D2) * Ta) / (1 + (D1 / D2))\n",
        "\n",
        "print(Ta)\n",
        "print(Tb)\n",
        "print(Tc)\n",
        "```"
      ]
    },
    {
      "cell_type": "markdown",
      "metadata": {
        "id": "mPsxZrOCuRH3"
      },
      "source": [
        "## Defining the differential equations for the problem\n",
        "\n",
        "The `PDE` class allows us to write the equations symbolically in Sympy. This allows you to quickly write your equations in the most natural way possible. The Sympy equations are converted to PyTorch expressions in the back-end and can also be printed to ensure correct implementation.\n",
        "\n",
        "Modulus also comes with several common PDEs predefined for the user to choose from. Some of the PDEs that are already available in the PDEs module are: Navier Stokes, Linear Elasticity, Advection Diffusion, Wave Equations, etc.\n",
        "\n",
        "Let's create the PDE to define the diffusion equation. We will define the equation in its most generic, transient 3-dimensional, form and then have an argument `dim` that can reduce it to lower dimensional forms.\n",
        "$$\\frac{\\partial T}{\\partial t}= \\nabla\\cdot \\left( D \\nabla T \\right) + Q$$\n",
        "\n",
        "Let's start defining the equation by inhereting from the `PDE` class. We will create the initialization method for this class that defines the equation(s) of interest. We will be defining the diffusion equation using the source(`Q`), diffusivity(`D`), symbol for diffusion(`T`). If `D` or `Q` is given as a string we will convert it to functional form. This will allow us to solve problems with spatially/temporally varying properties."
      ]
    },
    {
      "cell_type": "markdown",
      "metadata": {
        "id": "BkhYKwH4uRH3"
      },
      "source": [
        "```python\n",
        "class Diffusion(PDE):\n",
        "    name = \"Diffusion\"\n",
        "\n",
        "    def __init__(self, T=\"T\", D=\"D\", Q=0, dim=3, time=True):\n",
        "        # set params\n",
        "        self.T = T\n",
        "        self.dim = dim\n",
        "        self.time = time\n",
        "\n",
        "        # coordinates\n",
        "        x, y, z = Symbol(\"x\"), Symbol(\"y\"), Symbol(\"z\")\n",
        "\n",
        "        # time\n",
        "        t = Symbol(\"t\")\n",
        "\n",
        "        # make input variables\n",
        "        input_variables = {\"x\": x, \"y\": y, \"z\": z, \"t\": t}\n",
        "        if self.dim == 1:\n",
        "            input_variables.pop(\"y\")\n",
        "            input_variables.pop(\"z\")\n",
        "        elif self.dim == 2:\n",
        "            input_variables.pop(\"z\")\n",
        "        if not self.time:\n",
        "            input_variables.pop(\"t\")\n",
        "\n",
        "        # Temperature\n",
        "        assert type(T) == str, \"T needs to be string\"\n",
        "        T = Function(T)(*input_variables)\n",
        "\n",
        "        # Diffusivity\n",
        "        if type(D) is str:\n",
        "            D = Function(D)(*input_variables)\n",
        "        elif type(D) in [float, int]:\n",
        "            D = Number(D)\n",
        "\n",
        "        # Source\n",
        "        if type(Q) is str:\n",
        "            Q = Function(Q)(*input_variables)\n",
        "        elif type(Q) in [float, int]:\n",
        "            Q = Number(Q)\n",
        "\n",
        "        # set equations\n",
        "        self.equations = {}\n",
        "        self.equations[\"diffusion_\" + self.T] = (\n",
        "            T.diff(t)\n",
        "            - (D * T.diff(x)).diff(x)\n",
        "            - (D * T.diff(y)).diff(y)\n",
        "            - (D * T.diff(z)).diff(z)\n",
        "            - Q\n",
        "        )\n",
        "```"
      ]
    },
    {
      "cell_type": "markdown",
      "metadata": {
        "id": "JlJRMpDfuRH4"
      },
      "source": [
        "First we defined the input variables $x, y, z$ and $t$ with Sympy symbols. Then we defined the functions for $T$, $D$ and $Q$ that are dependent on the input variables $(x, y, z, t)$. Using these we can write out our simple equation $T_t = \\nabla \\cdot (D \\nabla T) + Q$. We store this equation in the class by adding it to the dictionary of `equations`.\n",
        "\n",
        "Note that we moved all the terms of the PDE either to LHS or RHS. This way, while using the equations in the constraints, we\n",
        "can assign a custom source function to the `’diffusion_T’` key instead of 0 to add more source terms to our PDE.\n",
        "\n",
        "Great! We just wrote our own PDE in Modulus! Once you have understood the process to code a simple PDE, you can easily extend the procedure for different PDEs. You can also bundle multiple PDEs together in a same file by adding new keys to the equations dictionary. Below we show the code for the interface boundary condition where we need to maintain the field (dirichlet) and flux (neumann) continuity. *(More examples of coding your own PDE can be found in the [Modulus User Documentation](https://docs.nvidia.com/deeplearning/modulus/text/foundational/1d_wave_equation.html))*.\n",
        "\n",
        "**Note :** The field continuity condition is needed because we are solving for two different temperatures in the two bars."
      ]
    },
    {
      "cell_type": "markdown",
      "metadata": {
        "id": "ZWEzbRiNuRH5"
      },
      "source": [
        "```python\n",
        "class DiffusionInterface(PDE):\n",
        "    name = \"DiffusionInterface\"\n",
        "\n",
        "    def __init__(self, T_1, T_2, D_1, D_2, dim=3, time=True):\n",
        "        # set params\n",
        "        self.T_1 = T_1\n",
        "        self.T_2 = T_2\n",
        "        self.dim = dim\n",
        "        self.time = time\n",
        "\n",
        "        # coordinates\n",
        "        x, y, z = Symbol(\"x\"), Symbol(\"y\"), Symbol(\"z\")\n",
        "        normal_x, normal_y, normal_z = (\n",
        "            Symbol(\"normal_x\"),\n",
        "            Symbol(\"normal_y\"),\n",
        "            Symbol(\"normal_z\"),\n",
        "        )\n",
        "\n",
        "        # time\n",
        "        t = Symbol(\"t\")\n",
        "\n",
        "        # make input variables\n",
        "        input_variables = {\"x\": x, \"y\": y, \"z\": z, \"t\": t}\n",
        "        if self.dim == 1:\n",
        "            input_variables.pop(\"y\")\n",
        "            input_variables.pop(\"z\")\n",
        "        elif self.dim == 2:\n",
        "            input_variables.pop(\"z\")\n",
        "        if not self.time:\n",
        "            input_variables.pop(\"t\")\n",
        "\n",
        "        # Diffusivity\n",
        "        if type(D_1) is str:\n",
        "            D_1 = Function(D_1)(*input_variables)\n",
        "        elif type(D_1) in [float, int]:\n",
        "            D_1 = Number(D_1)\n",
        "        if type(D_2) is str:\n",
        "            D_2 = Function(D_2)(*input_variables)\n",
        "        elif type(D_2) in [float, int]:\n",
        "            D_2 = Number(D_2)\n",
        "\n",
        "        # variables to match the boundary conditions (example Temperature)\n",
        "        T_1 = Function(T_1)(*input_variables)\n",
        "        T_2 = Function(T_2)(*input_variables)\n",
        "\n",
        "        # set equations\n",
        "        self.equations = {}\n",
        "        self.equations[\"diffusion_interface_dirichlet_\" + self.T_1 + \"_\" + self.T_2] = (\n",
        "            T_1 - T_2\n",
        "        )\n",
        "        flux_1 = D_1 * (\n",
        "            normal_x * T_1.diff(x) + normal_y * T_1.diff(y) + normal_z * T_1.diff(z)\n",
        "        )\n",
        "        flux_2 = D_2 * (\n",
        "            normal_x * T_2.diff(x) + normal_y * T_2.diff(y) + normal_z * T_2.diff(z)\n",
        "        )\n",
        "        self.equations[\"diffusion_interface_neumann_\" + self.T_1 + \"_\" + self.T_2] = (\n",
        "            flux_1 - flux_2\n",
        "        )\n",
        "```"
      ]
    },
    {
      "cell_type": "markdown",
      "metadata": {
        "id": "nkT0fz0xuRH6"
      },
      "source": [
        "## Creating PDE and Neural Network nodes\n",
        "\n",
        "The default `FullyConnectedArch` (selected by setting `cfg.arch.fully_connected` in the `cfg` argument of the `instantiate_arch()` function) can be used to create the neural network for the problem. The default `FullyConnectedArch` represents a 6 layer MLP (multi-layer perceptron) architecture with each layer containing 512 nodes and uses swish as the activation function. All these parameters are user configurable, and can be configured using Hydra config files. Once all the PDEs and architectures are defined, we can create a list of nodes to pass to different constraints we want to satisfy for this problem (i.e. equations residuals, boundary conditions, etc.).\n",
        "\n",
        "We will define all the code for the problem in the `run` function as shown below."
      ]
    },
    {
      "cell_type": "markdown",
      "metadata": {
        "id": "rxrcMU9FuRH6"
      },
      "source": [
        "```python\n",
        "@modulus.main(config_path=\"conf\", config_name=\"config\")\n",
        "def run(cfg: ModulusConfig) -> None:\n",
        "\n",
        "    # make list of nodes to unroll graph on\n",
        "    diff_u1 = Diffusion(T=\"u_1\", D=D1, dim=1, time=False)\n",
        "    diff_u2 = Diffusion(T=\"u_2\", D=D2, dim=1, time=False)\n",
        "    diff_in = DiffusionInterface(\"u_1\", \"u_2\", D1, D2, dim=1, time=False)\n",
        "\n",
        "    diff_net_u_1 = instantiate_arch(\n",
        "        input_keys=[Key(\"x\")],\n",
        "        output_keys=[Key(\"u_1\")],\n",
        "        cfg=cfg.arch.fully_connected,\n",
        "    )\n",
        "    diff_net_u_2 = instantiate_arch(\n",
        "        input_keys=[Key(\"x\")],\n",
        "        output_keys=[Key(\"u_2\")],\n",
        "        cfg=cfg.arch.fully_connected,\n",
        "    )\n",
        "\n",
        "    nodes = (\n",
        "        diff_u1.make_nodes()\n",
        "        + diff_u2.make_nodes()\n",
        "        + diff_in.make_nodes()\n",
        "        + [diff_net_u_1.make_node(name=\"u1_network\", jit=cfg.jit)]\n",
        "        + [diff_net_u_2.make_node(name=\"u2_network\", jit=cfg.jit)]\n",
        "    )\n",
        "```"
      ]
    },
    {
      "cell_type": "markdown",
      "metadata": {
        "id": "NqXddG8puRH6"
      },
      "source": [
        "### A quick note on Hydra to configure Modulus\n",
        "\n",
        "At the heart of the using Modulus are Hydra config files, the one for this example are found in the code shown below. Using hydra allows a highly customizable but user friendly method for configuring the majority of Modulus’ features. More information can be found in [Modulus Configuration](https://docs.nvidia.com/deeplearning/modulus/text/features/configuration.html)."
      ]
    },
    {
      "cell_type": "markdown",
      "metadata": {
        "id": "RcpCGdVkuRH7"
      },
      "source": [
        "```yaml\n",
        "defaults :\n",
        "  - modulus_default\n",
        "  - arch:\n",
        "      - fully_connected\n",
        "  - scheduler: tf_exponential_lr\n",
        "  - optimizer: adam\n",
        "  - loss: sum\n",
        "  - _self_\n",
        "\n",
        "arch:\n",
        "    fully_connected:\n",
        "        layer_size: 256\n",
        "\n",
        "save_filetypes : \"vtk,npz\"\n",
        "\n",
        "scheduler:\n",
        "  decay_rate: 0.95\n",
        "  decay_steps: 100\n",
        "\n",
        "optimizer:\n",
        "  lr : 1e-4\n",
        "\n",
        "training:\n",
        "  rec_results_freq: 1000\n",
        "  max_steps : 5000\n",
        "\n",
        "batch_size:\n",
        "  rhs: 2\n",
        "  lhs: 2\n",
        "  interface: 2\n",
        "  interior_u1: 200\n",
        "  interior_u2: 200\n",
        "```"
      ]
    },
    {
      "cell_type": "markdown",
      "metadata": {
        "id": "crx0ZU8PuRH7"
      },
      "source": [
        "## Setting up the Domain: Assigning the boundary and PDE constraints\n",
        "\n",
        "As described earlier, we need to define a domain for training our neural network. The `Domain` and the configs are passed as inputs when using the `Solver` class. Apart from constraints, you can add various other utilites to the `Domain` such as monitors, validation data, points to do inference on, etc."
      ]
    },
    {
      "cell_type": "markdown",
      "metadata": {
        "id": "IIYgz7BRuRH7"
      },
      "source": [
        "```python\n",
        "    # make domain add constraints to the solver\n",
        "    domain = Domain()\n",
        "```"
      ]
    },
    {
      "cell_type": "markdown",
      "metadata": {
        "id": "cMdAPDnVuRH8"
      },
      "source": [
        "Now let’s look into adding constraints to this domain. This can be thought of as adding specific constraints to the neural network optimization. For this physics-driven problem, these constraints are the boundary conditions and equation residuals. The goal is to satisfy the boundary conditions exactly, and ideally have the PDE residuals to go 0. These constraints can be specified within Modulus using classes like `PointwiseBoundaryConstrant` and `PointwiseInteriorConstraint`. A L2 loss (defult and can be modified) is then constructed from these constraints which is used by the optimizer to minimize on. Specifying the constraints in this fashion is called soft-constraints.  \n",
        "\n",
        "$$L = L_{BC} + L_{Residual}$$\n",
        "\n",
        "**Boundary constraints:** For generating a boundary condition, we need to sample the points on the required boundary/surface of the geometry, specify the nodes we would like to unroll/evaluate on these points and then assign them the desired values.\n",
        "\n",
        "A boundary can be sampled using `PointwiseBoundaryConstraint` class. This will sample the entire boundary of the geometry we specify in the `geometry` argument, in this case, both the endpoints of the 1d line. A particular boundary of the geometry can be sub-sampled by using a particular criterion using the `criteria` parameter. For example, to sample the left end of `L1`, `criteria` is set to `Eq(x, 0)`.\n",
        "\n",
        "The desired values for the boundary condition are listed as a dictionary in `outvar` argument. For this problem,  we have `'u_1':0` at $x=0$ and `'u_2':100` at $x=2$. At $x=1$, we have the interface condition `'diffusion_interface_dirichlet_u_1_u_2':0` and `'diffusion_interface_neumann_u_1_u_2':0` that we defined earlier (i.e. $U_1=U_2$ and $D_1\\frac{dU_1}{dx}=D_2\\frac{dU_2}{dx}$). These dictionaries are then used when unrolling the computational graph (specified using the `nodes` argument) for training.\n",
        "\n",
        "The number of points to sample on each boundary are specified using the `batch_size` parameter.\n",
        "\n",
        "**Equations to solve:** The Diffusion PDE we defined is enforced on all the points in the\n",
        "interior of both the bars, `L1` and `L2`. We will use `PointwiseInteriorConstraint` class to sample points in the interior of the geometry. Again, the appropriate geometry is specified in the `geometry` argument; the equations to solve are specified as a dictionary input to `outvar` argument. These dictionaries are then used when unrolling the computational graph (specified using the `nodes` argument) for training.\n",
        "\n",
        "For this problem we have the `'diffusion_u_1':0` and `'diffusion_u_2':0` for bars `L1` and `L2` respectively. The parameter `bounds`, determines the range for sampling the values for variables $x$ and $y$. The optional `lambda` parameter can be used to determine the weights for different losses. In this problem, we weight the loss on each point equally, and hence it is not used (defaults to 1) in this problem."
      ]
    },
    {
      "cell_type": "markdown",
      "metadata": {
        "id": "5wIxIa5VuRH8"
      },
      "source": [
        "```python\n",
        "    # sympy variables\n",
        "    x = Symbol(\"x\")\n",
        "\n",
        "    # right hand side (x = 2) Pt c\n",
        "    rhs = PointwiseBoundaryConstraint(\n",
        "        nodes=nodes,\n",
        "        geometry=L2,\n",
        "        outvar={\"u_2\": Tc},\n",
        "        batch_size=cfg.batch_size.rhs,\n",
        "        criteria=Eq(x, 2),\n",
        "    )\n",
        "    domain.add_constraint(rhs, \"right_hand_side\")\n",
        "\n",
        "    # left hand side (x = 0) Pt a\n",
        "    lhs = PointwiseBoundaryConstraint(\n",
        "        nodes=nodes,\n",
        "        geometry=L1,\n",
        "        outvar={\"u_1\": Ta},\n",
        "        batch_size=cfg.batch_size.lhs,\n",
        "        criteria=Eq(x, 0),\n",
        "    )\n",
        "    domain.add_constraint(lhs, \"left_hand_side\")\n",
        "\n",
        "    # interface 1-2\n",
        "    interface = PointwiseBoundaryConstraint(\n",
        "        nodes=nodes,\n",
        "        geometry=L1,\n",
        "        outvar={\n",
        "            \"diffusion_interface_dirichlet_u_1_u_2\": 0,\n",
        "            \"diffusion_interface_neumann_u_1_u_2\": 0,\n",
        "        },\n",
        "        batch_size=cfg.batch_size.interface,\n",
        "        criteria=Eq(x, 1),\n",
        "    )\n",
        "    domain.add_constraint(interface, \"interface\")\n",
        "\n",
        "    # interior 1\n",
        "    interior_u1 = PointwiseInteriorConstraint(\n",
        "        nodes=nodes,\n",
        "        geometry=L1,\n",
        "        outvar={\"diffusion_u_1\": 0},\n",
        "        bounds={x: (0, 1)},\n",
        "        batch_size=cfg.batch_size.interior_u1,\n",
        "    )\n",
        "    domain.add_constraint(interior_u1, \"interior_u1\")\n",
        "\n",
        "    # interior 2\n",
        "    interior_u2 = PointwiseInteriorConstraint(\n",
        "        nodes=nodes,\n",
        "        geometry=L2,\n",
        "        outvar={\"diffusion_u_2\": 0},\n",
        "        bounds={x: (1, 2)},\n",
        "        batch_size=cfg.batch_size.interior_u2,\n",
        "    )\n",
        "    domain.add_constraint(interior_u2, \"interior_u2\")\n",
        "```"
      ]
    },
    {
      "cell_type": "markdown",
      "metadata": {
        "id": "dbzQOiASuRH8"
      },
      "source": [
        "## Adding Validation Data\n",
        "\n",
        "For this 1d bar problem where the conductivity is constant in each bar, the temperature varies linearly with position inside the solid. The analytical solution can then be given as:\n",
        "\n",
        "$$\n",
        "\\begin{align}\n",
        "U_1 = xT_b + (1-x)T_a, && \\text{when } 0 \\leq x \\leq 1 \\\\\n",
        "U_2 = (x-1)T_c + (2-x)T_b, && \\text{when } 1 \\leq x \\leq 2 \\\\\n",
        "\\end{align}\n",
        "$$\n",
        "\n",
        "where,\n",
        "$$\n",
        "\\begin{align}\n",
        "T_a = U_1|_{x=0}, && T_c = U_2|_{x=2}, && \\frac{\\left(T_c + \\left( D_1/D_2 \\right)T_a \\right)}{1+ \\left( D_1/D_2 \\right)}\\\\\n",
        "\\end{align}\n",
        "$$\n",
        "\n",
        "Now let's create the validators. The validation data is added to the domain using the `PointwiseValidator` class. We use numpy to solve for the `u_1` and `u_2` based on the analytical expressions we showed above. The dictionary of generated numpy arrays (`invar_numpy` and `outvar_numpy`) for input and output variables and the appropriate nodes are used in the definition of the constructor."
      ]
    },
    {
      "cell_type": "markdown",
      "metadata": {
        "id": "zK6LgMiVuRH9"
      },
      "source": [
        "```python\n",
        "    # validation data\n",
        "    x = np.expand_dims(np.linspace(0, 1, 100), axis=-1)\n",
        "    u_1 = x * Tb + (1 - x) * Ta\n",
        "    invar_numpy = {\"x\": x}\n",
        "    outvar_numpy = {\"u_1\": u_1}\n",
        "    val = PointwiseValidator(nodes=nodes,invar=invar_numpy, true_outvar=outvar_numpy)\n",
        "    domain.add_validator(val, name=\"Val1\")\n",
        "\n",
        "    # make validation data line 2\n",
        "    x = np.expand_dims(np.linspace(1, 2, 100), axis=-1)\n",
        "    u_2 = (x - 1) * Tc + (2 - x) * Tb\n",
        "    invar_numpy = {\"x\": x}\n",
        "    outvar_numpy = {\"u_2\": u_2}\n",
        "    val = PointwiseValidator(nodes=nodes, invar=invar_numpy, true_outvar=outvar_numpy)\n",
        "    domain.add_validator(val, name=\"Val2\")\n",
        "```"
      ]
    },
    {
      "cell_type": "markdown",
      "metadata": {
        "id": "69giZ8MLuRH9"
      },
      "source": [
        "## Adding Monitors\n",
        "\n",
        "Modulus library allows you to monitor desired quantities in Tensorboard as the simulation progresses and\n",
        "assess the convergence. A `PointwiseMonitor` can be used to create such an feature. Examples of such quantities can be point values of variables, surface averages, volume averages or any derived quantities that can be formed using the variables being solved.\n",
        "\n",
        "The variables are available as PyTorch tensors. We can perform tensor operations available in PyTorch to compute any desired derived quantity of our choice.\n",
        "\n",
        "In the code below, we create monitors for flux at the interface. The variable `u_1__x` represents the derivative of `u_1` in x-direction (two underscores (`__`) and the variable (`x`)). The same notation is used while handling other derivatives using the Modulus library. (eg. a neumann boundary condition of $\\frac{dU_1}{dx}=0$ can be assigned as `'u_1__x':0` in the train domain for solving the same problem with a adiabatic/fixed flux boundary condition).\n",
        "\n",
        "The points to sample can be selected in a similar way as we did for specifying some of the interior constraints."
      ]
    },
    {
      "cell_type": "markdown",
      "metadata": {
        "id": "mA0gdeW8uRH-"
      },
      "source": [
        "```python\n",
        "    # make monitors\n",
        "    invar_numpy = {\"x\": [[1.0]]}\n",
        "    monitor = PointwiseMonitor(\n",
        "        invar_numpy,\n",
        "        output_names=[\"u_1__x\"],\n",
        "        metrics={\"flux_u1\": lambda var: torch.mean(var[\"u_1__x\"])},\n",
        "        nodes=nodes,\n",
        "        requires_grad=True,\n",
        "    )\n",
        "    domain.add_monitor(monitor)\n",
        "\n",
        "    monitor = PointwiseMonitor(\n",
        "        invar_numpy,\n",
        "        output_names=[\"u_2__x\"],\n",
        "        metrics={\"flux_u2\": lambda var: torch.mean(var[\"u_2__x\"])},\n",
        "        nodes=nodes,\n",
        "        requires_grad=True,\n",
        "    )\n",
        "    domain.add_monitor(monitor)\n",
        "```"
      ]
    },
    {
      "cell_type": "markdown",
      "metadata": {
        "id": "OYjOQfZbuRH-"
      },
      "source": [
        "## Putting everything together: Solver and training\n",
        "\n",
        "We can create a solver by using the domain we just created along with the other configurations that define the optimizer choices, settings (i.e. conf) using Modulus’ `Solver` class. The solver can then be executed using the `solve` method."
      ]
    },
    {
      "cell_type": "markdown",
      "metadata": {
        "id": "lS_ThOLJuRH_"
      },
      "source": [
        "```python\n",
        "    # make solver\n",
        "    slv = Solver(cfg, domain)\n",
        "\n",
        "    # start solver\n",
        "    slv.solve()\n",
        "\n",
        "\n",
        "if __name__ == \"__main__\":\n",
        "    run()\n",
        "```"
      ]
    },
    {
      "cell_type": "markdown",
      "metadata": {
        "id": "OFN36jQRuRH_"
      },
      "source": [
        "Awesome! We have just completed the file set up for the problem using the Modulus library. We are now ready to solve the PDEs using Neural Networks!\n",
        "\n",
        "Before we can start training, we can make use of Tensorboard for visualizing the loss values and convergence of several other monitors we just created. This can be done inside the jupyter framework by selecting the directory in which the checkpoint will be stored by clicking on the small checkbox next to it. The option to launch a Tensorboard then shows up in that directory.\n",
        "\n",
        "<img src=\"https://github.com/robertopsouto/gpubootcamp/blob/colab/hpc_ai/PINN/English/python/jupyter_notebook/diffusion_1d/image_tensorboard.png?raw=1\" alt=\"Drawing\" style=\"width: 900px;\"/>\n",
        "\n",
        "Also, as Modulus uses Hydra for config management, this causes issues when the code is directly executed through the jupyter notebook. Hence, we will save the code in form of a python script and execute that script inside the jupyter cell. This example is already saved for you and the code block below executes that script [`diffusion_bar.py`](../../source_code/diffusion_1d/diffusion_bar.py). You are encouraged to open the script and go through the code once before executing. Also, feel free to edit the parameters in the [`config.yaml`](../../source_code/diffusion_1d/conf/) file of the model and see its effect on the results."
      ]
    },
    {
      "cell_type": "code",
      "execution_count": null,
      "metadata": {
        "id": "v-JlBTASuRIA"
      },
      "outputs": [],
      "source": [
        "import os\n",
        "os.environ[\"RANK\"]=\"0\"\n",
        "os.environ[\"WORLD_SIZE\"]=\"1\"\n",
        "os.environ[\"MASTER_ADDR\"]=\"localhost\""
      ]
    },
    {
      "cell_type": "code",
      "source": [
        "%%bash\n",
        "git clone https://github.com/robertopsouto/gpubootcamp.git\n",
        "#cd gpubootcamp/hpc_ai/PINN/English/python/jupyter_notebook/diffusion_1d"
      ],
      "metadata": {
        "id": "xT9O28-Rxbkv"
      },
      "execution_count": null,
      "outputs": []
    },
    {
      "cell_type": "code",
      "source": [
        "%cd gpubootcamp/hpc_ai/PINN/English/python/jupyter_notebook/diffusion_1d"
      ],
      "metadata": {
        "id": "LDaOMcCxygBz"
      },
      "execution_count": null,
      "outputs": []
    },
    {
      "cell_type": "code",
      "execution_count": null,
      "metadata": {
        "id": "vn-7uB2WuRID"
      },
      "outputs": [],
      "source": [
        "!python3 ../../source_code/diffusion_1d/diffusion_bar.py"
      ]
    },
    {
      "cell_type": "markdown",
      "metadata": {
        "id": "PJ9LuLH_uRID"
      },
      "source": [
        "## Visualizing the solution\n",
        "\n",
        "Modulus saves the data in several formats (including .vtp, .vtk and .npz). The .npz arrays can be plotted to visualize the output of the simulation. The .npz files that are created are found in the `outputs/` directory.\n",
        "\n",
        "Now let's plot the temperature along the bar for the analytical and the neural network solution. A sample script to plot the results is shown below. If the training is complete, you should get the results like shown below. As we can see, our neural network solution and the analytical solution match almost exactly for this diffusion problem.\n",
        "\n",
        "<img src=\"https://github.com/robertopsouto/gpubootcamp/blob/colab/hpc_ai/PINN/English/python/jupyter_notebook/diffusion_1d/image_diffusion_problem_bootcamp.png?raw=1\" alt=\"Drawing\" style=\"width: 500px;\"/>"
      ]
    },
    {
      "cell_type": "code",
      "execution_count": null,
      "metadata": {
        "id": "4snqzK0HuRIE"
      },
      "outputs": [],
      "source": [
        "%%capture\n",
        "import sys\n",
        "!{sys.executable} -m pip install ipympl\n",
        "%matplotlib inline\n",
        "import matplotlib.pyplot as plt\n",
        "import numpy as np\n",
        "\n",
        "plt.figure()\n",
        "\n",
        "network_dir = \"./outputs/diffusion_bar/validators/\"\n",
        "data_1 = np.load(network_dir + \"Val1.npz\", allow_pickle=True)\n",
        "data_2 = np.load(network_dir + \"Val2.npz\", allow_pickle=True)\n",
        "data_1 = np.atleast_1d(data_1.f.arr_0)[0]\n",
        "data_2 = np.atleast_1d(data_2.f.arr_0)[0]\n",
        "\n",
        "plt.plot(data_1[\"x\"][:, 0], data_1[\"pred_u_1\"][:, 0], \"--\", label=\"u_1_pred\")\n",
        "plt.plot(data_2[\"x\"][:, 0], data_2[\"pred_u_2\"][:, 0], \"--\", label=\"u_2_pred\")\n",
        "plt.plot(data_1[\"x\"][:, 0], data_1[\"true_u_1\"][:, 0], label=\"u_1_true\")\n",
        "plt.plot(data_2[\"x\"][:, 0], data_2[\"true_u_2\"][:, 0], label=\"u_2_true\")\n",
        "\n",
        "plt.legend()\n",
        "plt.savefig(\"image_diffusion_problem_bootcamp\")"
      ]
    },
    {
      "cell_type": "markdown",
      "metadata": {
        "id": "Qk6NAKdEuRIE"
      },
      "source": [
        "# Parameterizing the PDE\n",
        "\n",
        "As we discussed in the introductory notebook, one important advantage of a PINN solver over traditional numerical methods is its ability to solve parameterized geometries and PDEs. This was initially proposed in the [paper](https://arxiv.org/abs/1906.02382) published by Sun et al. This allows us significant computational advantage, as one can now use PINNs to solve for multiple designs/cases in a single training. Once the training is complete, it is possible to run inference on several geometry/physical parameter combinations as a post-processing step, without solving the forward problem again.\n",
        "\n",
        "To demonstrate the concept, we will train the same 1d diffusion problem, but now by parameterizing the conductivity of the first bar in the range (5, 25). Once the training is complete, we can obtain the results for any conductivity value in that range saving us the time to train multiple models."
      ]
    },
    {
      "cell_type": "markdown",
      "metadata": {
        "id": "UOkk7cHyuRIE"
      },
      "source": [
        "## Case Setup\n",
        "\n",
        "The definition of equations remain the same for this part. Since earlier while defining the equations, we already defined the constants and coefficients of the PDE to be either numerical values or strings, this will allow us to paramterize `D1` by passing it as a string while calling the equations and making the neural network. Now let's start by creating the paramterized train domain. We will skip the parts that are common to the previous section and only discuss the changes. The complete script can be referred in [`diffusion_bar_parameterized.py`](../../source_code/diffusion_1d/diffusion_bar_parameterized.py)."
      ]
    },
    {
      "cell_type": "markdown",
      "metadata": {
        "id": "qkMicQZUuRIF"
      },
      "source": [
        "## Adding Parameterized PDE and Neural Network nodes\n",
        "\n",
        "Before starting out to create the nodes and domain, we will create the symbolic variable for the $D_1$ and also specify the range of variation for the variable. While the simulation runs, we will validate it against the same diffusion coefficient that we solved earlier i.e. $D_1=10$."
      ]
    },
    {
      "cell_type": "markdown",
      "metadata": {
        "id": "V5ioHXrCuRIF"
      },
      "source": [
        "```python\n",
        "# params for domain\n",
        "L1 = Line1D(0, 1)\n",
        "L2 = Line1D(1, 2)\n",
        "\n",
        "D1 = Symbol(\"D1\")\n",
        "D1_range = {D1: (5, 25)}\n",
        "D1_validation = 1e1\n",
        "\n",
        "D2 = 1e-1\n",
        "\n",
        "Tc = 100\n",
        "Ta = 0\n",
        "Tb = (Tc + (D1 / D2) * Ta) / (1 + (D1 / D2))\n",
        "Tb_validation = float(Tb.evalf(subs={D1: 1e1}))\n",
        "\n",
        "print(Ta)\n",
        "print(Tb)\n",
        "print(Tc)\n",
        "```"
      ]
    },
    {
      "cell_type": "markdown",
      "metadata": {
        "id": "nQrTer3quRIF"
      },
      "source": [
        "For training the parameterized model, we will have the symbolic parameters we just defined as inputs to both the neural networks in `diff_net_u_1` and `diff_net_u_2` viz. `'D1'` along with the usual x coordinate. The outputs remain the same as what we would have for any other non-parameterized simulation."
      ]
    },
    {
      "cell_type": "markdown",
      "metadata": {
        "id": "Yx3Veey7uRIM"
      },
      "source": [
        "```python\n",
        "@modulus.main(config_path=\"conf\", config_name=\"config_param\")\n",
        "def run(cfg: ModulusConfig) -> None:\n",
        "    # make list of nodes to unroll graph on\n",
        "    diff_u1 = Diffusion(T=\"u_1\", D=\"D1\", dim=1, time=False)\n",
        "    diff_u2 = Diffusion(T=\"u_2\", D=D2, dim=1, time=False)\n",
        "    diff_in = DiffusionInterface(\"u_1\", \"u_2\", \"D1\", D2, dim=1, time=False)\n",
        "\n",
        "    diff_net_u_1 = instantiate_arch(\n",
        "        input_keys=[Key(\"x\"), Key(\"D1\")],\n",
        "        output_keys=[Key(\"u_1\")],\n",
        "        cfg=cfg.arch.fully_connected,\n",
        "    )\n",
        "    diff_net_u_2 = instantiate_arch(\n",
        "        input_keys=[Key(\"x\"), Key(\"D1\")],\n",
        "        output_keys=[Key(\"u_2\")],\n",
        "        cfg=cfg.arch.fully_connected,\n",
        "    )\n",
        "\n",
        "    nodes = (\n",
        "        diff_u1.make_nodes()\n",
        "        + diff_u2.make_nodes()\n",
        "        + diff_in.make_nodes()\n",
        "        + [diff_net_u_1.make_node(name=\"u1_network\", jit=cfg.jit)]\n",
        "        + [diff_net_u_2.make_node(name=\"u2_network\", jit=cfg.jit)]\n",
        "    )\n",
        "```"
      ]
    },
    {
      "cell_type": "markdown",
      "metadata": {
        "id": "aEFxXdPIuRIN"
      },
      "source": [
        "## Adding Parameterized boundary and PDE Constraints\n",
        "\n",
        "This part of the code is very similar to the non-parameterized version. The sybolic variables and the ranges that we described earlier need to be inputted to the `param_ranges` attribute of each boundary and internal constraints (`PointwiseBoundaryConstraint` and `PointwiseInteriorConstraint`)"
      ]
    },
    {
      "cell_type": "markdown",
      "metadata": {
        "id": "wA5CNONmuRIN"
      },
      "source": [
        "```python\n",
        "    # make domain add constraints to the solver\n",
        "    domain = Domain()\n",
        "\n",
        "    # sympy variables\n",
        "    x = Symbol(\"x\")\n",
        "\n",
        "    # right hand side (x = 2) Pt c\n",
        "    rhs = PointwiseBoundaryConstraint(\n",
        "        nodes=nodes,\n",
        "        geometry=L2,\n",
        "        outvar={\"u_2\": Tc},\n",
        "        batch_size=cfg.batch_size.rhs,\n",
        "        criteria=Eq(x, 2),\n",
        "        parameterization=Parameterization(D1_range),\n",
        "    )\n",
        "    domain.add_constraint(rhs, \"right_hand_side\")\n",
        "\n",
        "    # left hand side (x = 0) Pt a\n",
        "    lhs = PointwiseBoundaryConstraint(\n",
        "        nodes=nodes,\n",
        "        geometry=L1,\n",
        "        outvar={\"u_1\": Ta},\n",
        "        batch_size=cfg.batch_size.lhs,\n",
        "        criteria=Eq(x, 0),\n",
        "        parameterization=Parameterization(D1_range),\n",
        "    )\n",
        "    domain.add_constraint(lhs, \"left_hand_side\")\n",
        "\n",
        "    # interface 1-2\n",
        "    interface = PointwiseBoundaryConstraint(\n",
        "        nodes=nodes,\n",
        "        geometry=L1,\n",
        "        outvar={\n",
        "            \"diffusion_interface_dirichlet_u_1_u_2\": 0,\n",
        "            \"diffusion_interface_neumann_u_1_u_2\": 0,\n",
        "        },\n",
        "        batch_size=cfg.batch_size.interface,\n",
        "        criteria=Eq(x, 1),\n",
        "        parameterization=Parameterization(D1_range),\n",
        "    )\n",
        "    domain.add_constraint(interface, \"interface\")\n",
        "\n",
        "    # interior 1\n",
        "    interior_u1 = PointwiseInteriorConstraint(\n",
        "        nodes=nodes,\n",
        "        geometry=L1,\n",
        "        outvar={\"diffusion_u_1\": 0},\n",
        "        bounds={x: (0, 1)},\n",
        "        batch_size=cfg.batch_size.interior_u1,\n",
        "        parameterization=Parameterization(D1_range),\n",
        "    )\n",
        "    domain.add_constraint(interior_u1, \"interior_u1\")\n",
        "\n",
        "    # interior 2\n",
        "    interior_u2 = PointwiseInteriorConstraint(\n",
        "        nodes=nodes,\n",
        "        geometry=L2,\n",
        "        outvar={\"diffusion_u_2\": 0},\n",
        "        bounds={x: (1, 2)},\n",
        "        batch_size=cfg.batch_size.interior_u2,\n",
        "        parameterization=Parameterization(D1_range),\n",
        "    )\n",
        "    domain.add_constraint(interior_u2, \"interior_u2\")\n",
        "```"
      ]
    },
    {
      "cell_type": "markdown",
      "metadata": {
        "id": "F0JmVqfbuRIO"
      },
      "source": [
        "## Adding Validators and Monitors\n",
        "\n",
        "The process to create these domains is again similar to the previous section. For validation data, we need to create an additional key for the string `'D1'` in the `invar_numpy`. The value for this key can be in the range we specified earlier and which we would like to validate against. It is possible to create multiple validators if required, eg. different $D_1$ values. For monitor domain, similar `invar_numpy` is generated that has both the `'x'` and `'D1'` keys and appropriate arrays."
      ]
    },
    {
      "cell_type": "markdown",
      "metadata": {
        "id": "rxGE3sRfuRIO"
      },
      "source": [
        "```python\n",
        "    # validation data\n",
        "    x = np.expand_dims(np.linspace(0, 1, 100), axis=-1)\n",
        "    u_1 = x * Tb_validation + (1 - x) * Ta\n",
        "    invar_numpy = {\"x\": x}\n",
        "    invar_numpy.update({\"D1\": np.full_like(invar_numpy[\"x\"], D1_validation)})\n",
        "    outvar_numpy = {\"u_1\": u_1}\n",
        "    val = PointwiseValidator(nodes=nodes,invar=invar_numpy, true_outvar=outvar_numpy)\n",
        "    domain.add_validator(val, name=\"Val1\")\n",
        "    \n",
        "    # make validation data line 2\n",
        "    x = np.expand_dims(np.linspace(1, 2, 100), axis=-1)\n",
        "    u_2 = (x - 1) * Tc + (2 - x) * Tb_validation\n",
        "    invar_numpy = {\"x\": x}\n",
        "    invar_numpy.update({\"D1\": np.full_like(invar_numpy[\"x\"], D1_validation)})\n",
        "    outvar_numpy = {\"u_2\": u_2}\n",
        "    val = PointwiseValidator(nodes=nodes, invar=invar_numpy, true_outvar=outvar_numpy)\n",
        "    domain.add_validator(val, name=\"Val2\")\n",
        "    \n",
        "    # make monitors\n",
        "    invar_numpy = {\"x\": [[1.0]], \"D1\": [[D1_validation]]}\n",
        "    monitor = PointwiseMonitor(\n",
        "        invar_numpy,\n",
        "        output_names=[\"u_1__x\"],\n",
        "        metrics={\"flux_u1\": lambda var: torch.mean(var[\"u_1__x\"])},\n",
        "        nodes=nodes,\n",
        "        requires_grad=True,\n",
        "    )\n",
        "    domain.add_monitor(monitor)\n",
        "\n",
        "    monitor = PointwiseMonitor(\n",
        "        invar_numpy,\n",
        "        output_names=[\"u_2__x\"],\n",
        "        metrics={\"flux_u2\": lambda var: torch.mean(var[\"u_2__x\"])},\n",
        "        nodes=nodes,\n",
        "        requires_grad=True,\n",
        "    )\n",
        "    domain.add_monitor(monitor)\n",
        "```"
      ]
    },
    {
      "cell_type": "markdown",
      "metadata": {
        "id": "TFhSjqCzuRIP"
      },
      "source": [
        "## Solver and Training\n",
        "\n",
        "Now that we have the definitions for the various constraints and domains complete, we can form the solver and run the problem similar to before. The code to do the same can be found below."
      ]
    },
    {
      "cell_type": "markdown",
      "metadata": {
        "id": "r_GEiEQDuRIQ"
      },
      "source": [
        "```python\n",
        "    # make solver\n",
        "    slv = Solver(cfg, domain)\n",
        "\n",
        "    # start solver\n",
        "    slv.solve()\n",
        "\n",
        "\n",
        "if __name__ == \"__main__\":\n",
        "    run()\n",
        "```"
      ]
    },
    {
      "cell_type": "code",
      "execution_count": null,
      "metadata": {
        "id": "6AlrUpTauRIQ"
      },
      "outputs": [],
      "source": [
        "!python3 ../../source_code/diffusion_1d/diffusion_bar_parameterized.py"
      ]
    },
    {
      "cell_type": "markdown",
      "metadata": {
        "id": "EDpYiy1ruRIR"
      },
      "source": [
        "## Visualizing the solution\n",
        "\n",
        "The .npz arrays can be plotted similar to previous section to visualize the output of the simulation. You can see that we get the same answer as the analytical solution. You can try to run the problem in `eval` mode by chaning the validation data and see how it performs for the other `D1` values as well. To run the model in evaluation mode (i.e. without training), you just need to [modify the config file](https://docs.nvidia.com/deeplearning/modulus/text/features/configuration.html#run-modes).  \n",
        "\n",
        "<img src=\"https://github.com/robertopsouto/gpubootcamp/blob/colab/hpc_ai/PINN/English/python/jupyter_notebook/diffusion_1d/image_diffusion_problem_bootcamp_parameterized.png?raw=1\" alt=\"Drawing\" style=\"width: 500px;\"/>\n",
        "\n",
        "You can see that at a fractional increase in computational time, we solved the PDE for $D_1$ ranging from (5, 25). This concept can easily be extended to more complicated problems and this ability of solving parameterized problems comes very handy during desing optimization and exploring the design space. For more examples of solving parameterized problems, please refer to [Modulus User Documentation](https://docs.nvidia.com/deeplearning/modulus/index.html)"
      ]
    },
    {
      "cell_type": "markdown",
      "metadata": {
        "id": "9-5CeEKwuRIS"
      },
      "source": [
        "# Licensing\n",
        "This material is released by OpenACC-Standard.org, in collaboration with NVIDIA Corporation, under the Creative Commons Attribution 4.0 International (CC BY 4.0)."
      ]
    }
  ],
  "metadata": {
    "kernelspec": {
      "display_name": "Python 3",
      "name": "python3"
    },
    "language_info": {
      "codemirror_mode": {
        "name": "ipython",
        "version": 3
      },
      "file_extension": ".py",
      "mimetype": "text/x-python",
      "name": "python",
      "nbconvert_exporter": "python",
      "pygments_lexer": "ipython3",
      "version": "3.8.13"
    },
    "colab": {
      "provenance": [],
      "gpuType": "V100",
      "include_colab_link": true
    },
    "accelerator": "GPU"
  },
  "nbformat": 4,
  "nbformat_minor": 0
}